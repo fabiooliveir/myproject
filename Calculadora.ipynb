{
  "nbformat": 4,
  "nbformat_minor": 0,
  "metadata": {
    "colab": {
      "provenance": [],
      "include_colab_link": true
    },
    "kernelspec": {
      "name": "python3",
      "display_name": "Python 3"
    },
    "language_info": {
      "name": "python"
    }
  },
  "cells": [
    {
      "cell_type": "markdown",
      "metadata": {
        "id": "view-in-github",
        "colab_type": "text"
      },
      "source": [
        "<a href=\"https://colab.research.google.com/github/fabiooliveir/myproject/blob/deasafio-DNC/Calculadora.ipynb\" target=\"_parent\"><img src=\"https://colab.research.google.com/assets/colab-badge.svg\" alt=\"Open In Colab\"/></a>"
      ]
    },
    {
      "cell_type": "markdown",
      "source": [
        "#Calculadora"
      ],
      "metadata": {
        "id": "p1XGFpGXcpR_"
      }
    },
    {
      "cell_type": "markdown",
      "source": [
        "Precisamos criar uma calculadora simples com Soma, Subtração, Multiplicação, Divisão. Você pode inserir quantos numeros quiser para realizar a conta e apenas uma operação."
      ],
      "metadata": {
        "id": "k-bKEyPwcsXG"
      }
    },
    {
      "cell_type": "code",
      "execution_count": 4,
      "metadata": {
        "colab": {
          "base_uri": "https://localhost:8080/"
        },
        "id": "1Q0SNAk0biyO",
        "outputId": "811cdcb8-17ba-4e3a-8f3b-d0e2e9551a73"
      },
      "outputs": [
        {
          "output_type": "stream",
          "name": "stdout",
          "text": [
            "Selecione a operação desejada:\n",
            "1 - Soma\n",
            "2 - Subtração\n",
            "3 - Multiplicação\n",
            "4 - Divisão\n",
            "Digite sua opção (1/2/3/4): 1\n",
            "Digite os números separados por vírgula: 2,2\n",
            "Resultado da soma: 4.0\n",
            "Paridade do resultado: Par\n",
            "Positivo/Negativo/Zero: Positivo\n"
          ]
        }
      ],
      "source": [
        "# Função para somar uma lista de números\n",
        "def soma(numeros):\n",
        "    resultado = sum(numeros)\n",
        "    return resultado\n",
        "\n",
        "# Função para subtrair uma lista de números\n",
        "def subtrai(numeros):\n",
        "    resultado = numeros[0]\n",
        "    for i in range(1, len(numeros)):\n",
        "        resultado -= numeros[i]\n",
        "    return resultado\n",
        "\n",
        "# Função para multiplicar uma lista de números\n",
        "def multiplica(numeros):\n",
        "    resultado = 1\n",
        "    for numero in numeros:\n",
        "        resultado *= numero\n",
        "    return resultado\n",
        "\n",
        "# Função para dividir uma lista de números\n",
        "def divide(numeros):\n",
        "    resultado = numeros[0]\n",
        "    for i in range(1, len(numeros)):\n",
        "        if numeros[i] == 0:\n",
        "            return \"Não é possível dividir por zero\"\n",
        "        else:\n",
        "            resultado /= numeros[i]\n",
        "    return resultado\n",
        "\n",
        "# Função para verificar se um número é par ou ímpar\n",
        "def verifica_paridade(numero):\n",
        "    if numero % 2 == 0:\n",
        "        return \"Par\"\n",
        "    else:\n",
        "        return \"Ímpar\"\n",
        "\n",
        "# Função para verificar se um número é positivo, negativo ou zero\n",
        "def verifica_positivo_negativo(numero):\n",
        "    if numero > 0:\n",
        "        return \"Positivo\"\n",
        "    elif numero < 0:\n",
        "        return \"Negativo\"\n",
        "    else:\n",
        "        return \"Zero\"\n",
        "\n",
        "# Exibe as opções de operação para o usuário\n",
        "print(\"Selecione a operação desejada:\")\n",
        "print(\"1 - Soma\")\n",
        "print(\"2 - Subtração\")\n",
        "print(\"3 - Multiplicação\")\n",
        "print(\"4 - Divisão\")\n",
        "\n",
        "# Solicita ao usuário que selecione uma opção\n",
        "opcao = input(\"Digite sua opção (1/2/3/4): \")\n",
        "\n",
        "# Solicita ao usuário que informe os números a serem calculados\n",
        "numeros = input(\"Digite os números separados por vírgula: \")\n",
        "numeros = [float(numero) for numero in numeros.split(\",\")]\n",
        "\n",
        "# Realiza a operação selecionada pelo usuário\n",
        "if opcao == '1':\n",
        "    resultado = soma(numeros)\n",
        "    print(\"Resultado da soma:\", resultado)\n",
        "    print(\"Paridade do resultado:\", verifica_paridade(resultado))\n",
        "    print(\"Positivo/Negativo/Zero:\", verifica_positivo_negativo(resultado))\n",
        "elif opcao == '2':\n",
        "    resultado = subtrai(numeros)\n",
        "    print(\"Resultado da subtração:\", resultado)\n",
        "    print(\"Paridade do resultado:\", verifica_paridade(resultado))\n",
        "    print(\"Positivo/Negativo/Zero:\", verifica_positivo_negativo(resultado))\n",
        "elif opcao == '3':\n",
        "    resultado = multiplica(numeros)\n",
        "    print(\"Resultado da multiplicação:\", resultado)\n",
        "    print(\"Paridade do resultado:\", verifica_paridade(resultado))\n",
        "    print(\"Positivo/Negativo/Zero:\", verifica_positivo_negativo(resultado))\n",
        "elif opcao == '4':\n",
        "    resultado = divide(numeros)\n",
        "    print(\"Resultado da divisão:\", resultado)\n",
        "    if isinstance(resultado, float):\n",
        "        print(\"Paridade do resultado:\", verifica_paridade(resultado))\n",
        "        print(\"Positivo/Negativo/Zero:\", verifica_positivo_negativo(resultado))\n",
        "else:\n",
        "    print(\"Opção inválida\")\n"
      ]
    }
  ]
}